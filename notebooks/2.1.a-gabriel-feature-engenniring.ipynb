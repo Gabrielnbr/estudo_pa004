{
 "cells": [
  {
   "cell_type": "markdown",
   "metadata": {},
   "source": [
    "# Primeira entrega"
   ]
  },
  {
   "cell_type": "markdown",
   "metadata": {},
   "source": [
    "Planejamento da Solução\n",
    " - Ler o artigo para pensar na saolução\n",
    "\n",
    "Coleta de dados\n",
    " - Buscar uma forma de conectar com o banco de dados da AWS"
   ]
  },
  {
   "cell_type": "markdown",
   "metadata": {},
   "source": [
    "# 0.0 Imports"
   ]
  },
  {
   "cell_type": "code",
   "execution_count": 1,
   "metadata": {},
   "outputs": [],
   "source": [
    "import pickle\n",
    "\n",
    "import numpy    as np\n",
    "import pandas   as pd\n",
    "import seaborn  as sns\n",
    "\n",
    "from scipy              import stats\n",
    "from IPython.display    import Image"
   ]
  },
  {
   "cell_type": "markdown",
   "metadata": {},
   "source": [
    "## 0.1 Help Functions"
   ]
  },
  {
   "cell_type": "code",
   "execution_count": 2,
   "metadata": {},
   "outputs": [],
   "source": [
    "# Supressão de Notação Científica\n",
    "np.set_printoptions(suppress=True)\n",
    "pd.set_option('display.float_format', '{:.3f}'.format)"
   ]
  },
  {
   "cell_type": "code",
   "execution_count": 3,
   "metadata": {},
   "outputs": [
    {
     "data": {
      "text/html": [
       "<style>.container { width:100% !important; }</style>"
      ],
      "text/plain": [
       "<IPython.core.display.HTML object>"
      ]
     },
     "metadata": {},
     "output_type": "display_data"
    }
   ],
   "source": [
    "# Corrigir Gráficos Jupter\n",
    "\n",
    "from matplotlib import pyplot as plt\n",
    "from IPython.core.display import HTML\n",
    "\n",
    "def jupyter_settings():\n",
    "    %matplotlib inline\n",
    "\n",
    "    plt.style.use( 'bmh' )\n",
    "    plt.rcParams['figure.figsize'] = [25, 12]\n",
    "#    plt.rcParams['font.size'] = 24\n",
    "\n",
    "    display( HTML( '<style>.container { width:100% !important; }</style>') )\n",
    "    pd.options.display.max_columns = None\n",
    "    pd.options.display.max_rows = None\n",
    "    pd.set_option( 'display.expand_frame_repr', False )\n",
    "\n",
    "jupyter_settings()"
   ]
  },
  {
   "cell_type": "code",
   "execution_count": 4,
   "metadata": {},
   "outputs": [],
   "source": [
    "def cramer_v(x, y):\n",
    "    cm = pd.crosstab( x, y ).values\n",
    "    n = cm.sum()\n",
    "    r, k = cm.shape\n",
    "    \n",
    "    chi2 = stats.chi2_contingency(cm)[0]\n",
    "    chi2corr = max(0, chi2 - (k-1) * (r-1) / (n-1) )\n",
    "    \n",
    "    kcorr = k - (k-1)**2/(n-1)\n",
    "    rcorr = r - (r-1)**2/(n-1)\n",
    "    \n",
    "    return np.sqrt( ( chi2corr/n ) / ( min( kcorr-1,rcorr-1 ) ) )"
   ]
  },
  {
   "cell_type": "markdown",
   "metadata": {},
   "source": [
    "## 0.2 Load interim data"
   ]
  },
  {
   "cell_type": "code",
   "execution_count": 5,
   "metadata": {},
   "outputs": [
    {
     "data": {
      "text/html": [
       "<div>\n",
       "<style scoped>\n",
       "    .dataframe tbody tr th:only-of-type {\n",
       "        vertical-align: middle;\n",
       "    }\n",
       "\n",
       "    .dataframe tbody tr th {\n",
       "        vertical-align: top;\n",
       "    }\n",
       "\n",
       "    .dataframe thead th {\n",
       "        text-align: right;\n",
       "    }\n",
       "</style>\n",
       "<table border=\"1\" class=\"dataframe\">\n",
       "  <thead>\n",
       "    <tr style=\"text-align: right;\">\n",
       "      <th></th>\n",
       "      <th>id</th>\n",
       "      <th>genero</th>\n",
       "      <th>idade</th>\n",
       "      <th>codigo_regiao</th>\n",
       "      <th>contato_cliente</th>\n",
       "      <th>cnh</th>\n",
       "      <th>idade_veiculo</th>\n",
       "      <th>veiculo_danificado</th>\n",
       "      <th>seguro_previo_automovel</th>\n",
       "      <th>premio_anual</th>\n",
       "      <th>cliente_dias_contrato</th>\n",
       "      <th>resposta</th>\n",
       "    </tr>\n",
       "  </thead>\n",
       "  <tbody>\n",
       "    <tr>\n",
       "      <th>0</th>\n",
       "      <td>1</td>\n",
       "      <td>Male</td>\n",
       "      <td>44</td>\n",
       "      <td>28.000</td>\n",
       "      <td>26.000</td>\n",
       "      <td>1</td>\n",
       "      <td>&gt; 2 Years</td>\n",
       "      <td>Yes</td>\n",
       "      <td>0</td>\n",
       "      <td>40454.000</td>\n",
       "      <td>217</td>\n",
       "      <td>1</td>\n",
       "    </tr>\n",
       "    <tr>\n",
       "      <th>1</th>\n",
       "      <td>2</td>\n",
       "      <td>Male</td>\n",
       "      <td>76</td>\n",
       "      <td>3.000</td>\n",
       "      <td>26.000</td>\n",
       "      <td>1</td>\n",
       "      <td>1-2 Year</td>\n",
       "      <td>No</td>\n",
       "      <td>0</td>\n",
       "      <td>33536.000</td>\n",
       "      <td>183</td>\n",
       "      <td>0</td>\n",
       "    </tr>\n",
       "    <tr>\n",
       "      <th>2</th>\n",
       "      <td>3</td>\n",
       "      <td>Male</td>\n",
       "      <td>47</td>\n",
       "      <td>28.000</td>\n",
       "      <td>26.000</td>\n",
       "      <td>1</td>\n",
       "      <td>&gt; 2 Years</td>\n",
       "      <td>Yes</td>\n",
       "      <td>0</td>\n",
       "      <td>38294.000</td>\n",
       "      <td>27</td>\n",
       "      <td>1</td>\n",
       "    </tr>\n",
       "    <tr>\n",
       "      <th>3</th>\n",
       "      <td>4</td>\n",
       "      <td>Male</td>\n",
       "      <td>21</td>\n",
       "      <td>11.000</td>\n",
       "      <td>152.000</td>\n",
       "      <td>1</td>\n",
       "      <td>&lt; 1 Year</td>\n",
       "      <td>No</td>\n",
       "      <td>1</td>\n",
       "      <td>28619.000</td>\n",
       "      <td>203</td>\n",
       "      <td>0</td>\n",
       "    </tr>\n",
       "    <tr>\n",
       "      <th>4</th>\n",
       "      <td>5</td>\n",
       "      <td>Female</td>\n",
       "      <td>29</td>\n",
       "      <td>41.000</td>\n",
       "      <td>152.000</td>\n",
       "      <td>1</td>\n",
       "      <td>&lt; 1 Year</td>\n",
       "      <td>No</td>\n",
       "      <td>1</td>\n",
       "      <td>27496.000</td>\n",
       "      <td>39</td>\n",
       "      <td>0</td>\n",
       "    </tr>\n",
       "  </tbody>\n",
       "</table>\n",
       "</div>"
      ],
      "text/plain": [
       "   id  genero  idade  codigo_regiao  contato_cliente  cnh idade_veiculo veiculo_danificado  seguro_previo_automovel  premio_anual  cliente_dias_contrato  resposta\n",
       "0   1    Male     44         28.000           26.000    1     > 2 Years                Yes                        0     40454.000                    217         1\n",
       "1   2    Male     76          3.000           26.000    1      1-2 Year                 No                        0     33536.000                    183         0\n",
       "2   3    Male     47         28.000           26.000    1     > 2 Years                Yes                        0     38294.000                     27         1\n",
       "3   4    Male     21         11.000          152.000    1      < 1 Year                 No                        1     28619.000                    203         0\n",
       "4   5  Female     29         41.000          152.000    1      < 1 Year                 No                        1     27496.000                     39         0"
      ]
     },
     "execution_count": 5,
     "metadata": {},
     "output_type": "execute_result"
    }
   ],
   "source": [
    "df2 = pickle.load(open('../data/interim/df1_descricao.pkl', 'rb'))\n",
    "df2.head()"
   ]
  },
  {
   "cell_type": "markdown",
   "metadata": {},
   "source": [
    "# 1.0 Hipoteses \n",
    "Iniciada no __2º Cíclo CRISP__"
   ]
  },
  {
   "cell_type": "markdown",
   "metadata": {},
   "source": [
    "## 1.1 Mind map"
   ]
  },
  {
   "cell_type": "code",
   "execution_count": 6,
   "metadata": {},
   "outputs": [
    {
     "data": {
      "image/png": "[encoded data removed]",
      "text/plain": [
       "<IPython.core.display.Image object>"
      ]
     },
     "execution_count": 6,
     "metadata": {},
     "output_type": "execute_result"
    }
   ],
   "source": [
    "Image('../reports/figures/Seguro de Vida.png')"
   ]
  },
  {
   "cell_type": "markdown",
   "metadata": {},
   "source": [
    "## 1.2 Criação das Hipóteses"
   ]
  },
  {
   "cell_type": "markdown",
   "metadata": {},
   "source": [
    "### 1.2.1 Cliente"
   ]
  },
  {
   "cell_type": "markdown",
   "metadata": {},
   "source": [
    "__2º Cíclo CRISP__\n",
    "\n",
    "1. Clientes entre 35 e 65 anos responderam em média mais 'sim' no questionário.\n",
    "\n",
    "2. Clientes do gênero masculinos tem uma maior probabilidade de responder 'não' no questionário.\n",
    "\n",
    "3. Clientes de da mesma região não divergiram a resposta em mais de 20% (Pareto).\n",
    "\n",
    "4. Clientes que não possuem CNH responderam em média mais 'sim' no questionário."
   ]
  },
  {
   "cell_type": "markdown",
   "metadata": {},
   "source": [
    "### 1.2.2 Veículo"
   ]
  },
  {
   "cell_type": "markdown",
   "metadata": {},
   "source": [
    "__2º Cíclo CRISP__\n",
    "\n",
    "1. Clientes com veículos Não danificados responderam em média mais 'não' no questionário.\n",
    "\n",
    "2. Clientes com veículos acima de 2 anos de idade responderam em média mais 'não' no questionário.\n",
    "\n",
    "3. Clientes com veículos até 1 ano de idade e com seguro automotivo e responderam em média mais 'sim' no questionário."
   ]
  },
  {
   "cell_type": "markdown",
   "metadata": {},
   "source": [
    "### 1.2.3 Seguro"
   ]
  },
  {
   "cell_type": "markdown",
   "metadata": {},
   "source": [
    "__2º Cíclo CRISP__\n",
    "\n",
    "1. Clientes que já possuem seguro automotívo resmponderam em média mais 'sim' no questionário.\n",
    "\n",
    "2. Clientes com até 90 dias de seguro responderam em média mais 'não' no questionário.\n",
    "\n",
    "3. 30% Clientes dos prêmios mais baixos responderam em média mais 'não' no questionário."
   ]
  },
  {
   "cell_type": "markdown",
   "metadata": {},
   "source": [
    "# 2.0 Feature Engenniring"
   ]
  },
  {
   "cell_type": "markdown",
   "metadata": {},
   "source": [
    "## 1.1 Fetures necessárias"
   ]
  },
  {
   "cell_type": "markdown",
   "metadata": {},
   "source": [
    "__Features Reestruturadas__ 1º Ciclo CRISP\n",
    "\n",
    "1. idade_veiculo - transformar de str para int (1, 2, 3)\n",
    "\n",
    "2. veiculo_danificado - transformar de str para int (0, 1)\n",
    "\n",
    "__Features Derivadas__ 2º Ciclo CRISP\n",
    "\n",
    "1. Idade - Jovem (x = min, x <= 35), Adulto (x > 35 - x <= 65), Idoso (x > 65).\n",
    "\n",
    "2. Idade Veículo - Pouca Manutenção (x = min, x <= 1), Médio Manutenção (x > 1 - x <= 2), Muita Manutenção (x > 2).\n",
    "\n",
    "3. Cliente dias Contrato - semana 7 dias completos; mês 30 dias completos."
   ]
  },
  {
   "cell_type": "code",
   "execution_count": 7,
   "metadata": {},
   "outputs": [],
   "source": [
    "df2['idade_veiculo'] = df2['idade_veiculo'].apply(lambda x: 1 if x == '< 1 Year' else\n",
    "                                                            2 if x == '1-2 Year' else 3)\n",
    "\n",
    "df2['veiculo_danificado'] = df2['veiculo_danificado'].apply(lambda x: 1 if x == 'Yes' else 0)"
   ]
  },
  {
   "cell_type": "markdown",
   "metadata": {},
   "source": [
    "# 3.0 Filter Data"
   ]
  },
  {
   "cell_type": "markdown",
   "metadata": {},
   "source": [
    "Sem filtro __1º Ciclo CRISP__"
   ]
  },
  {
   "cell_type": "markdown",
   "metadata": {},
   "source": [
    "# 4.0 Export Pickle interim Data"
   ]
  },
  {
   "cell_type": "code",
   "execution_count": null,
   "metadata": {},
   "outputs": [],
   "source": [
    "pickle.dump(df2,open('../data/interim/df2_feature.pkl','wb'))"
   ]
  },
  {
   "cell_type": "code",
   "execution_count": null,
   "metadata": {},
   "outputs": [],
   "source": [
    "del df2"
   ]
  }
 ],
 "metadata": {
  "kernelspec": {
   "display_name": "Python 3.10.4 ('PA004': venv)",
   "language": "python",
   "name": "python3"
  },
  "language_info": {
   "codemirror_mode": {
    "name": "ipython",
    "version": 3
   },
   "file_extension": ".py",
   "mimetype": "text/x-python",
   "name": "python",
   "nbconvert_exporter": "python",
   "pygments_lexer": "ipython3",
   "version": "3.10.4"
  },
  "orig_nbformat": 4,
  "vscode": {
   "interpreter": {
    "hash": "39311d145f9a4a3b2f74fb1a130458549899fea2f207a9c17127572fad03e2b8"
   }
  }
 },
 "nbformat": 4,
 "nbformat_minor": 2
}
