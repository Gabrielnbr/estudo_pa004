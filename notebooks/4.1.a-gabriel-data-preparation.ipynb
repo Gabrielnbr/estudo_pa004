{
 "cells": [
  {
   "cell_type": "markdown",
   "metadata": {},
   "source": [
    "# 0.0 Imports"
   ]
  },
  {
   "cell_type": "code",
   "execution_count": 50,
   "metadata": {},
   "outputs": [],
   "source": [
    "import pickle\n",
    "import numpy    as np\n",
    "import pandas   as pd\n",
    "import seaborn  as sns\n",
    "\n",
    "from matplotlib import pyplot as plt\n",
    "\n",
    "from IPython.display import HTML\n",
    "\n",
    "from sklearn import preprocessing as pp\n",
    "from sklearn import model_selection as ms"
   ]
  },
  {
   "cell_type": "markdown",
   "metadata": {},
   "source": [
    "## 0.1 Help functions"
   ]
  },
  {
   "cell_type": "code",
   "execution_count": 34,
   "metadata": {},
   "outputs": [],
   "source": [
    "# Supressão de Notação Científica\n",
    "np.set_printoptions(suppress=True)\n",
    "pd.set_option('display.float_format', '{:.4f}'.format)"
   ]
  },
  {
   "cell_type": "code",
   "execution_count": 35,
   "metadata": {},
   "outputs": [
    {
     "data": {
      "text/html": [
       "<style>.container { width:100% !important; }</style>"
      ],
      "text/plain": [
       "<IPython.core.display.HTML object>"
      ]
     },
     "metadata": {},
     "output_type": "display_data"
    }
   ],
   "source": [
    "# Corrigir Gráficos Jupter\n",
    "\n",
    "def jupyter_settings():\n",
    "    %matplotlib inline\n",
    "\n",
    "    plt.style.use( 'bmh' )\n",
    "    plt.rcParams['figure.figsize'] = [16, 12]\n",
    "    plt.rcParams['font.size'] = 12\n",
    "\n",
    "    display( HTML( '<style>.container { width:100% !important; }</style>') )\n",
    "    pd.options.display.max_columns = None\n",
    "    pd.options.display.max_rows = None\n",
    "    pd.set_option( 'display.expand_frame_repr', False )\n",
    "\n",
    "jupyter_settings()"
   ]
  },
  {
   "cell_type": "markdown",
   "metadata": {},
   "source": [
    "## 0.2 Load interim data"
   ]
  },
  {
   "cell_type": "code",
   "execution_count": 67,
   "metadata": {},
   "outputs": [
    {
     "data": {
      "text/html": [
       "<div>\n",
       "<style scoped>\n",
       "    .dataframe tbody tr th:only-of-type {\n",
       "        vertical-align: middle;\n",
       "    }\n",
       "\n",
       "    .dataframe tbody tr th {\n",
       "        vertical-align: top;\n",
       "    }\n",
       "\n",
       "    .dataframe thead th {\n",
       "        text-align: right;\n",
       "    }\n",
       "</style>\n",
       "<table border=\"1\" class=\"dataframe\">\n",
       "  <thead>\n",
       "    <tr style=\"text-align: right;\">\n",
       "      <th></th>\n",
       "      <th>id</th>\n",
       "      <th>genero</th>\n",
       "      <th>idade</th>\n",
       "      <th>codigo_regiao</th>\n",
       "      <th>contato_cliente</th>\n",
       "      <th>cnh</th>\n",
       "      <th>idade_veiculo</th>\n",
       "      <th>veiculo_danificado</th>\n",
       "      <th>seguro_previo_automovel</th>\n",
       "      <th>premio_anual</th>\n",
       "      <th>cliente_dias_contrato</th>\n",
       "      <th>resposta</th>\n",
       "    </tr>\n",
       "  </thead>\n",
       "  <tbody>\n",
       "    <tr>\n",
       "      <th>0</th>\n",
       "      <td>1</td>\n",
       "      <td>Male</td>\n",
       "      <td>44</td>\n",
       "      <td>28.0000</td>\n",
       "      <td>26.0000</td>\n",
       "      <td>1</td>\n",
       "      <td>3</td>\n",
       "      <td>1</td>\n",
       "      <td>0</td>\n",
       "      <td>40454.0000</td>\n",
       "      <td>217</td>\n",
       "      <td>1</td>\n",
       "    </tr>\n",
       "    <tr>\n",
       "      <th>1</th>\n",
       "      <td>2</td>\n",
       "      <td>Male</td>\n",
       "      <td>76</td>\n",
       "      <td>3.0000</td>\n",
       "      <td>26.0000</td>\n",
       "      <td>1</td>\n",
       "      <td>2</td>\n",
       "      <td>0</td>\n",
       "      <td>0</td>\n",
       "      <td>33536.0000</td>\n",
       "      <td>183</td>\n",
       "      <td>0</td>\n",
       "    </tr>\n",
       "    <tr>\n",
       "      <th>2</th>\n",
       "      <td>3</td>\n",
       "      <td>Male</td>\n",
       "      <td>47</td>\n",
       "      <td>28.0000</td>\n",
       "      <td>26.0000</td>\n",
       "      <td>1</td>\n",
       "      <td>3</td>\n",
       "      <td>1</td>\n",
       "      <td>0</td>\n",
       "      <td>38294.0000</td>\n",
       "      <td>27</td>\n",
       "      <td>1</td>\n",
       "    </tr>\n",
       "    <tr>\n",
       "      <th>3</th>\n",
       "      <td>4</td>\n",
       "      <td>Male</td>\n",
       "      <td>21</td>\n",
       "      <td>11.0000</td>\n",
       "      <td>152.0000</td>\n",
       "      <td>1</td>\n",
       "      <td>1</td>\n",
       "      <td>0</td>\n",
       "      <td>1</td>\n",
       "      <td>28619.0000</td>\n",
       "      <td>203</td>\n",
       "      <td>0</td>\n",
       "    </tr>\n",
       "    <tr>\n",
       "      <th>4</th>\n",
       "      <td>5</td>\n",
       "      <td>Female</td>\n",
       "      <td>29</td>\n",
       "      <td>41.0000</td>\n",
       "      <td>152.0000</td>\n",
       "      <td>1</td>\n",
       "      <td>1</td>\n",
       "      <td>0</td>\n",
       "      <td>1</td>\n",
       "      <td>27496.0000</td>\n",
       "      <td>39</td>\n",
       "      <td>0</td>\n",
       "    </tr>\n",
       "  </tbody>\n",
       "</table>\n",
       "</div>"
      ],
      "text/plain": [
       "   id  genero  idade  codigo_regiao  contato_cliente  cnh  idade_veiculo  veiculo_danificado  seguro_previo_automovel  premio_anual  cliente_dias_contrato  resposta\n",
       "0   1    Male     44        28.0000          26.0000    1              3                   1                        0    40454.0000                    217         1\n",
       "1   2    Male     76         3.0000          26.0000    1              2                   0                        0    33536.0000                    183         0\n",
       "2   3    Male     47        28.0000          26.0000    1              3                   1                        0    38294.0000                     27         1\n",
       "3   4    Male     21        11.0000         152.0000    1              1                   0                        1    28619.0000                    203         0\n",
       "4   5  Female     29        41.0000         152.0000    1              1                   0                        1    27496.0000                     39         0"
      ]
     },
     "execution_count": 67,
     "metadata": {},
     "output_type": "execute_result"
    }
   ],
   "source": [
    "df4 = pickle.load( open( \"../data/interim/df2_feature.pkl\", \"rb\" ) )\n",
    "df4.head()"
   ]
  },
  {
   "cell_type": "markdown",
   "metadata": {},
   "source": [
    "# 1.0 Data Preparation"
   ]
  },
  {
   "cell_type": "code",
   "execution_count": 68,
   "metadata": {},
   "outputs": [
    {
     "data": {
      "text/plain": [
       "Index(['id', 'genero', 'idade', 'codigo_regiao', 'contato_cliente', 'cnh',\n",
       "       'idade_veiculo', 'veiculo_danificado', 'seguro_previo_automovel',\n",
       "       'premio_anual', 'cliente_dias_contrato', 'resposta'],\n",
       "      dtype='object')"
      ]
     },
     "execution_count": 68,
     "metadata": {},
     "output_type": "execute_result"
    }
   ],
   "source": [
    "df4.columns"
   ]
  },
  {
   "cell_type": "markdown",
   "metadata": {},
   "source": [
    "## 1.1 Normalização"
   ]
  },
  {
   "cell_type": "code",
   "execution_count": 69,
   "metadata": {},
   "outputs": [],
   "source": [
    "ss = pp.StandardScaler()\n",
    "\n",
    "# premio_anual\n",
    "df4['premio_anual'] = ss.fit_transform( df4[['premio_anual']].values)"
   ]
  },
  {
   "cell_type": "markdown",
   "metadata": {},
   "source": [
    "## 1.2 Reescala"
   ]
  },
  {
   "cell_type": "code",
   "execution_count": 70,
   "metadata": {},
   "outputs": [],
   "source": [
    "mms_idade = pp.MinMaxScaler()\n",
    "mms_cdc = pp.MinMaxScaler()\n",
    "\n",
    "# idade\n",
    "df4[['idade']] = mms_idade.fit_transform( df4[['idade']].values )\n",
    "\n",
    "# cliente_dias_contrato\n",
    "\n",
    "df4[['cliente_dias_contrato']] = mms_cdc.fit_transform( df4[['cliente_dias_contrato']].values )"
   ]
  },
  {
   "cell_type": "markdown",
   "metadata": {},
   "source": [
    "## 1.3 Encoder"
   ]
  },
  {
   "cell_type": "code",
   "execution_count": 71,
   "metadata": {},
   "outputs": [],
   "source": [
    "# cnh - tem ou não algo 0 1 - já está em LabelEncoder\n",
    "# seguro_previo_automovel - já está em LabelEncoder\n",
    "# veiculo_danificado - já está em LabelEncoder\n",
    "\n",
    "# genero - OneHotEncoder / TargetEncoder\n",
    "target_encode_genero = df4.groupby(['genero'])['resposta'].mean()\n",
    "df4.loc[:, 'genero'] = df4['genero'].map(target_encode_genero)\n",
    "\n",
    "# codigo_regiao -  One Hot Encoding / Frequency Encoding / Target Encoding / Weighted Target Encoding\n",
    "target_encode_codigo_regiao = df4.groupby(['codigo_regiao'])['resposta'].mean()\n",
    "df4.loc[:, 'codigo_regiao'] = df4['codigo_regiao'].map(target_encode_codigo_regiao)\n",
    "\n",
    "# idade_veiculo - One Hot Encoding / Order Encoding / Frequency Encoding\n",
    "df4 = pd.get_dummies(df4, prefix=['idade_veiculo'], columns=['idade_veiculo'])\n",
    "\n",
    "# contato_cliente - Target Encoding / Frequency Encoding\n",
    "fe_contato_cliente = df4.groupby(['contato_cliente']).size() / len(df4)\n",
    "df4.loc[:, 'contato_cliente'] = df4['contato_cliente'].map(fe_contato_cliente)"
   ]
  },
  {
   "cell_type": "markdown",
   "metadata": {},
   "source": [
    "## 1.4 Separação Treino, Validação"
   ]
  },
  {
   "cell_type": "code",
   "execution_count": 77,
   "metadata": {},
   "outputs": [],
   "source": [
    "X = df4.drop( columns=['id','resposta'], axis=1 )\n",
    "y = df4['resposta'].copy()\n",
    "\n",
    "x_treino, x_validacao, y_treino, y_validacao = ms.train_test_split(X, y, test_size=0.2, random_state=42)"
   ]
  },
  {
   "cell_type": "markdown",
   "metadata": {},
   "source": [
    "# 2.0 Export Pickle interim Data"
   ]
  },
  {
   "cell_type": "code",
   "execution_count": 82,
   "metadata": {},
   "outputs": [],
   "source": [
    "# x_treino\n",
    "pickle.dump(x_treino,open('../data/interim/x_treino.pkl','wb'))\n",
    "# y_treino\n",
    "pickle.dump(y_treino,open('../data/interim/y_treino.pkl','wb'))\n",
    "\n",
    "# x_validacao\n",
    "pickle.dump(x_validacao,open('../data/interim/x_validacao.pkl','wb'))\n",
    "# y_validacao\n",
    "pickle.dump(y_validacao,open('../data/interim/y_validacao.pkl','wb'))"
   ]
  },
  {
   "cell_type": "code",
   "execution_count": null,
   "metadata": {},
   "outputs": [],
   "source": [
    "del df4, X, y, x_treino, x_validacao, y_treino, y_validacao"
   ]
  }
 ],
 "metadata": {
  "kernelspec": {
   "display_name": "Python 3.10.4 ('PA004': venv)",
   "language": "python",
   "name": "python3"
  },
  "language_info": {
   "codemirror_mode": {
    "name": "ipython",
    "version": 3
   },
   "file_extension": ".py",
   "mimetype": "text/x-python",
   "name": "python",
   "nbconvert_exporter": "python",
   "pygments_lexer": "ipython3",
   "version": "3.10.4"
  },
  "orig_nbformat": 4,
  "vscode": {
   "interpreter": {
    "hash": "e71490556ab7de0bcd54282e67a936bf07c67219281fbfddf1780577eb20493b"
   }
  }
 },
 "nbformat": 4,
 "nbformat_minor": 2
}
