{
 "cells": [
  {
   "cell_type": "markdown",
   "metadata": {},
   "source": [
    "# 0.0 Imports"
   ]
  },
  {
   "cell_type": "code",
   "execution_count": null,
   "metadata": {},
   "outputs": [],
   "source": [
    "import pickle\n",
    "import pandas   as pd\n",
    "\n",
    "from sklearn import preprocessing as pp\n",
    "\n",
    "import funcoes_suporte as fs"
   ]
  },
  {
   "cell_type": "markdown",
   "metadata": {},
   "source": [
    "## 0.1 Help functions"
   ]
  },
  {
   "cell_type": "code",
   "execution_count": 3,
   "metadata": {},
   "outputs": [
    {
     "data": {
      "text/html": [
       "<style>.container { width:100% !important; }</style>"
      ],
      "text/plain": [
       "<IPython.core.display.HTML object>"
      ]
     },
     "metadata": {},
     "output_type": "display_data"
    }
   ],
   "source": [
    "fs.jupyter_settings(altura= 18, largura= 14, fonte= 11)\n",
    "fs.supressao_notacao()"
   ]
  },
  {
   "cell_type": "markdown",
   "metadata": {},
   "source": [
    "## 0.2 Load interim data"
   ]
  },
  {
   "cell_type": "code",
   "execution_count": null,
   "metadata": {},
   "outputs": [
    {
     "data": {
      "text/html": [
       "<div>\n",
       "<style scoped>\n",
       "    .dataframe tbody tr th:only-of-type {\n",
       "        vertical-align: middle;\n",
       "    }\n",
       "\n",
       "    .dataframe tbody tr th {\n",
       "        vertical-align: top;\n",
       "    }\n",
       "\n",
       "    .dataframe thead th {\n",
       "        text-align: right;\n",
       "    }\n",
       "</style>\n",
       "<table border=\"1\" class=\"dataframe\">\n",
       "  <thead>\n",
       "    <tr style=\"text-align: right;\">\n",
       "      <th></th>\n",
       "      <th>id</th>\n",
       "      <th>genero</th>\n",
       "      <th>idade</th>\n",
       "      <th>codigo_regiao</th>\n",
       "      <th>contato_cliente</th>\n",
       "      <th>cnh</th>\n",
       "      <th>idade_veiculo</th>\n",
       "      <th>veiculo_danificado</th>\n",
       "      <th>seguro_previo_automovel</th>\n",
       "      <th>premio_anual</th>\n",
       "      <th>cliente_dias_contrato</th>\n",
       "      <th>resposta</th>\n",
       "    </tr>\n",
       "  </thead>\n",
       "  <tbody>\n",
       "    <tr>\n",
       "      <th>55914</th>\n",
       "      <td>55915</td>\n",
       "      <td>Male</td>\n",
       "      <td>33</td>\n",
       "      <td>29.000</td>\n",
       "      <td>124.000</td>\n",
       "      <td>1</td>\n",
       "      <td>1-2 Year</td>\n",
       "      <td>Yes</td>\n",
       "      <td>0</td>\n",
       "      <td>26761.000</td>\n",
       "      <td>139</td>\n",
       "      <td>0</td>\n",
       "    </tr>\n",
       "    <tr>\n",
       "      <th>179876</th>\n",
       "      <td>179877</td>\n",
       "      <td>Male</td>\n",
       "      <td>55</td>\n",
       "      <td>28.000</td>\n",
       "      <td>26.000</td>\n",
       "      <td>1</td>\n",
       "      <td>&gt; 2 Years</td>\n",
       "      <td>Yes</td>\n",
       "      <td>0</td>\n",
       "      <td>27875.000</td>\n",
       "      <td>285</td>\n",
       "      <td>1</td>\n",
       "    </tr>\n",
       "    <tr>\n",
       "      <th>300095</th>\n",
       "      <td>300096</td>\n",
       "      <td>Female</td>\n",
       "      <td>26</td>\n",
       "      <td>28.000</td>\n",
       "      <td>152.000</td>\n",
       "      <td>1</td>\n",
       "      <td>&lt; 1 Year</td>\n",
       "      <td>No</td>\n",
       "      <td>1</td>\n",
       "      <td>43562.000</td>\n",
       "      <td>118</td>\n",
       "      <td>0</td>\n",
       "    </tr>\n",
       "    <tr>\n",
       "      <th>60078</th>\n",
       "      <td>60079</td>\n",
       "      <td>Male</td>\n",
       "      <td>57</td>\n",
       "      <td>38.000</td>\n",
       "      <td>124.000</td>\n",
       "      <td>1</td>\n",
       "      <td>1-2 Year</td>\n",
       "      <td>No</td>\n",
       "      <td>1</td>\n",
       "      <td>51365.000</td>\n",
       "      <td>249</td>\n",
       "      <td>0</td>\n",
       "    </tr>\n",
       "    <tr>\n",
       "      <th>312426</th>\n",
       "      <td>312427</td>\n",
       "      <td>Male</td>\n",
       "      <td>27</td>\n",
       "      <td>42.000</td>\n",
       "      <td>152.000</td>\n",
       "      <td>1</td>\n",
       "      <td>&lt; 1 Year</td>\n",
       "      <td>Yes</td>\n",
       "      <td>0</td>\n",
       "      <td>26590.000</td>\n",
       "      <td>161</td>\n",
       "      <td>0</td>\n",
       "    </tr>\n",
       "  </tbody>\n",
       "</table>\n",
       "</div>"
      ],
      "text/plain": [
       "            id  genero  idade  codigo_regiao  contato_cliente  cnh idade_veiculo veiculo_danificado  seguro_previo_automovel  premio_anual  cliente_dias_contrato  resposta\n",
       "55914    55915    Male     33         29.000          124.000    1      1-2 Year                Yes                        0     26761.000                    139         0\n",
       "179876  179877    Male     55         28.000           26.000    1     > 2 Years                Yes                        0     27875.000                    285         1\n",
       "300095  300096  Female     26         28.000          152.000    1      < 1 Year                 No                        1     43562.000                    118         0\n",
       "60078    60079    Male     57         38.000          124.000    1      1-2 Year                 No                        1     51365.000                    249         0\n",
       "312426  312427    Male     27         42.000          152.000    1      < 1 Year                Yes                        0     26590.000                    161         0"
      ]
     },
     "execution_count": 5,
     "metadata": {},
     "output_type": "execute_result"
    }
   ],
   "source": [
    "x_treino = pickle.load( open( \"../data/interim/x_treino.pkl\", \"rb\" ) )\n",
    "y_treino = pickle.load( open(\"../data/interim/y_treino.pkl\", \"rb\"))\n",
    "df = x_treino.copy()\n",
    "df['resposta'] = y_treino.values\n",
    "df.head()"
   ]
  },
  {
   "cell_type": "code",
   "execution_count": null,
   "metadata": {},
   "outputs": [],
   "source": [
    "del x_treino, y_treino"
   ]
  },
  {
   "cell_type": "markdown",
   "metadata": {},
   "source": [
    "# 1.0 Data Preparation"
   ]
  },
  {
   "cell_type": "code",
   "execution_count": 7,
   "metadata": {},
   "outputs": [
    {
     "data": {
      "text/plain": [
       "Index(['id', 'genero', 'idade', 'codigo_regiao', 'contato_cliente', 'cnh',\n",
       "       'idade_veiculo', 'veiculo_danificado', 'seguro_previo_automovel',\n",
       "       'premio_anual', 'cliente_dias_contrato', 'resposta'],\n",
       "      dtype='object')"
      ]
     },
     "execution_count": 7,
     "metadata": {},
     "output_type": "execute_result"
    }
   ],
   "source": [
    "df.columns"
   ]
  },
  {
   "cell_type": "markdown",
   "metadata": {},
   "source": [
    "## 1.1 Normalização"
   ]
  },
  {
   "cell_type": "code",
   "execution_count": null,
   "metadata": {},
   "outputs": [],
   "source": [
    "ss = pp.StandardScaler()\n",
    "\n",
    "# premio_anual\n",
    "df['premio_anual'] = ss.fit_transform( df[['premio_anual']].values)"
   ]
  },
  {
   "cell_type": "code",
   "execution_count": 6,
   "metadata": {},
   "outputs": [],
   "source": [
    "pickle.dump(ss,open('../src/features/premio_anual_normalize.pkl','wb'))"
   ]
  },
  {
   "cell_type": "markdown",
   "metadata": {},
   "source": [
    "## 1.2 Reescala"
   ]
  },
  {
   "cell_type": "code",
   "execution_count": null,
   "metadata": {},
   "outputs": [],
   "source": [
    "mms_idade = pp.MinMaxScaler()\n",
    "mms_cdc = pp.MinMaxScaler()\n",
    "\n",
    "# idade\n",
    "df[['idade']] = mms_idade.fit_transform( df[['idade']].values )\n",
    "\n",
    "# cliente_dias_contrato\n",
    "\n",
    "df[['cliente_dias_contrato']] = mms_cdc.fit_transform( df[['cliente_dias_contrato']].values )"
   ]
  },
  {
   "cell_type": "code",
   "execution_count": 8,
   "metadata": {},
   "outputs": [],
   "source": [
    "pickle.dump( mms_idade, open('../src/features/mms_idade.pkl ','wb' ) )\n",
    "pickle.dump( mms_cdc, open('../src/features/mms_cdc.pkl','wb' ) )"
   ]
  },
  {
   "cell_type": "markdown",
   "metadata": {},
   "source": [
    "## 1.3 Encoder"
   ]
  },
  {
   "cell_type": "code",
   "execution_count": null,
   "metadata": {},
   "outputs": [],
   "source": [
    "# cnh - tem ou não algo 0 1 - já está em LabelEncoder\n",
    "# seguro_previo_automovel - já está em LabelEncoder\n",
    "# veiculo_danificado - já está em LabelEncoder\n",
    "\n",
    "# genero - OneHotEncoder / TargetEncoder\n",
    "target_encode_genero = df.groupby(['genero'])['resposta'].mean()\n",
    "df.loc[:, 'genero'] = df['genero'].map(target_encode_genero)\n",
    "\n",
    "# codigo_regiao -  One Hot Encoding / Frequency Encoding / Target Encoding / Weighted Target Encoding\n",
    "target_encode_codigo_regiao = df.groupby(['codigo_regiao'])['resposta'].mean()\n",
    "df.loc[:, 'codigo_regiao'] = df['codigo_regiao'].map(target_encode_codigo_regiao)\n",
    "\n",
    "# idade_veiculo - One Hot Encoding / Order Encoding / Frequency Encoding\n",
    "df = pd.get_dummies(df, prefix=['idade_veiculo'], columns=['idade_veiculo'])\n",
    "\n",
    "# contato_cliente - Target Encoding / Frequency Encoding\n",
    "fe_contato_cliente = df.groupby(['contato_cliente']).size() / len(df)\n",
    "df.loc[:, 'contato_cliente'] = df['contato_cliente'].map(fe_contato_cliente)"
   ]
  },
  {
   "cell_type": "code",
   "execution_count": null,
   "metadata": {},
   "outputs": [],
   "source": [
    "pickle.dump( target_encode_genero, open('../src/features/target_encode_genero.pkl', 'wb' ) )\n",
    "pickle.dump( target_encode_codigo_regiao, open('../src/features/target_encode_codigo_regiao.pkl', 'wb' ) )\n",
    "pickle.dump( fe_contato_cliente , open('../src/features/fe_contato_cliente.pkl', 'wb' ) )"
   ]
  },
  {
   "cell_type": "markdown",
   "metadata": {},
   "source": [
    "# 1.4 Transofrmação"
   ]
  },
  {
   "cell_type": "code",
   "execution_count": null,
   "metadata": {},
   "outputs": [],
   "source": []
  },
  {
   "cell_type": "markdown",
   "metadata": {},
   "source": [
    "# 2.0 Export Pickle interim Data"
   ]
  },
  {
   "cell_type": "code",
   "execution_count": null,
   "metadata": {},
   "outputs": [],
   "source": [
    "# x_treino\n",
    "x_treino = df.drop(columns = ['resposta'],  axis=1 ).reset_index(drop=True)\n",
    "pickle.dump(x_treino,open('../data/interim/x_treino.pkl','wb'))\n",
    "\n",
    "# y_treino\n",
    "y_treino = df['resposta'].copy()\n",
    "pickle.dump(y_treino,open('../data/interim/y_treino.pkl','wb'))"
   ]
  },
  {
   "cell_type": "code",
   "execution_count": null,
   "metadata": {},
   "outputs": [],
   "source": [
    "del df, x_treino, y_treino"
   ]
  }
 ],
 "metadata": {
  "kernelspec": {
   "display_name": "pa004",
   "language": "python",
   "name": "python3"
  },
  "language_info": {
   "codemirror_mode": {
    "name": "ipython",
    "version": 3
   },
   "file_extension": ".py",
   "mimetype": "text/x-python",
   "name": "python",
   "nbconvert_exporter": "python",
   "pygments_lexer": "ipython3",
   "version": "3.11.9"
  },
  "orig_nbformat": 4
 },
 "nbformat": 4,
 "nbformat_minor": 2
}
