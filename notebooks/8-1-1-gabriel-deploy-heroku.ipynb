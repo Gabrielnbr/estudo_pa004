{
 "cells": [
  {
   "cell_type": "code",
   "execution_count": null,
   "metadata": {},
   "outputs": [],
   "source": []
  }
 ],
 "metadata": {
  "kernelspec": {
   "display_name": "Python 3.10.4 ('PA004': venv)",
   "language": "python",
   "name": "python3"
  },
  "language_info": {
   "name": "python",
   "version": "3.10.4"
  },
  "orig_nbformat": 4,
  "vscode": {
   "interpreter": {
    "hash": "39311d145f9a4a3b2f74fb1a130458549899fea2f207a9c17127572fad03e2b8"
   }
  }
 },
 "nbformat": 4,
 "nbformat_minor": 2
}
