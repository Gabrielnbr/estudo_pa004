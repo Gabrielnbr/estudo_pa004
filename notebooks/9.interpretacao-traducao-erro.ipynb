{
 "cells": [
  {
   "cell_type": "code",
   "execution_count": null,
   "metadata": {},
   "outputs": [],
   "source": []
  }
 ],
 "metadata": {
  "kernelspec": {
   "display_name": "Python 3.10.4 ('PA004': venv)",
   "language": "python",
   "name": "python3"
  },
  "language_info": {
   "name": "python",
   "version": "3.10.4"
  },
  "orig_nbformat": 4,
  "vscode": {
   "interpreter": {
    "hash": "e71490556ab7de0bcd54282e67a936bf07c67219281fbfddf1780577eb20493b"
   }
  }
 },
 "nbformat": 4,
 "nbformat_minor": 2
}
